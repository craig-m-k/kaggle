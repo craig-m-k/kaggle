{
 "cells": [
  {
   "cell_type": "markdown",
   "metadata": {},
   "source": [
    "# Titanic analysis: traveling groups and age penalties"
   ]
  },
  {
   "cell_type": "markdown",
   "metadata": {},
   "source": [
    "## 0. Data and summary"
   ]
  },
  {
   "cell_type": "markdown",
   "metadata": {},
   "source": [
    "### 0.1. Packages and data"
   ]
  },
  {
   "cell_type": "code",
   "execution_count": 1,
   "metadata": {},
   "outputs": [],
   "source": [
    "import numpy as np\n",
    "import pandas as pd\n",
    "import matplotlib.pyplot as plt\n",
    "import seaborn as sns\n",
    "sns.set()\n",
    "sns.set_palette(\"Set2\")\n",
    "%matplotlib inline\n",
    "\n",
    "from sklearn import svm\n",
    "from sklearn.model_selection import train_test_split\n",
    "from sklearn.model_selection import cross_val_score\n",
    "from sklearn.model_selection import GridSearchCV\n",
    "from sklearn.ensemble import RandomForestClassifier\n",
    "from sklearn.ensemble import GradientBoostingClassifier\n",
    "\n",
    "train = pd.read_csv('train.csv')\n",
    "test = pd.read_csv('test.csv')\n",
    "comb = train.append(test, ignore_index=True)"
   ]
  },
  {
   "cell_type": "markdown",
   "metadata": {},
   "source": [
    "### 0.2. Summary"
   ]
  },
  {
   "cell_type": "markdown",
   "metadata": {},
   "source": [
    "The Titanic data set is available on Kaggle. The goal is to predict survivors.\n",
    "\n",
    "The data are organized as follows: train and test are DataFrames containing the following columns:\n",
    "\n",
    "    PassengerId: unique identifier for each passenger\n",
    "    Survived: 1 is survived, 0 is died (train only)\n",
    "    Pclass: passenger class\n",
    "    Name: passenger name\n",
    "    Sex\n",
    "    Age\n",
    "    SibSp: count of spouses or siblings on board\n",
    "    Parch: count of parents or children on board\n",
    "    Ticket: ticket number\n",
    "    Fare\n",
    "    Cabin: cabin number\n",
    "    Embarked: place where passenger boarded\n",
    "comb is a DataFrame combining both the train and test data.  Some columns have missing data."
   ]
  },
  {
   "cell_type": "markdown",
   "metadata": {},
   "source": [
    "## 1. Processing the data"
   ]
  },
  {
   "cell_type": "markdown",
   "metadata": {},
   "source": [
    "For some of the data processing, I was influenced by Erik Bruin's excellent and detailed analysis: https://www.kaggle.com/erikbruin/titanic-2nd-degree-families-and-majority-voting"
   ]
  },
  {
   "cell_type": "markdown",
   "metadata": {},
   "source": [
    "### 1.1. From names to titles"
   ]
  },
  {
   "cell_type": "markdown",
   "metadata": {},
   "source": [
    "From the names column, we make a new column 'Title'.  There are 18 titles in the data set, and a number of them are rare.  I don't want to use all of them; I condensed them to 6.  Similar titles are identified: e.g., 'Miss' = 'Mlle', 'Mrs' = 'Mme', etc. Fancy title will go into 'VIP' or 'VIPW'. Some of them are judgment calls.  For example, should \"Rev.\" go in \"Mr\" or \"VIP\"?"
   ]
  },
  {
   "cell_type": "code",
   "execution_count": 2,
   "metadata": {
    "scrolled": true
   },
   "outputs": [
    {
     "name": "stderr",
     "output_type": "stream",
     "text": [
      "/Users/craigkleski/Library/Python/3.6/lib/python/site-packages/pandas/core/indexing.py:194: SettingWithCopyWarning: \n",
      "A value is trying to be set on a copy of a slice from a DataFrame\n",
      "\n",
      "See the caveats in the documentation: http://pandas.pydata.org/pandas-docs/stable/indexing.html#indexing-view-versus-copy\n",
      "  self._setitem_with_indexer(indexer, value)\n"
     ]
    }
   ],
   "source": [
    "title_dict = ({'Mr.':'Mr', 'Mrs.':'Mrs', 'Mme.':'Mrs',\n",
    "               'Capt.':'VIP', 'Major.':'VIP', 'Col.':'VIP', \n",
    "               'Mlle.':'Miss','Ms.':'Mrs', 'Sir.':'VIP',\n",
    "               'Rev.':'Mr','Don.':'VIP','Jonkheer.':'VIP',\n",
    "               'Countess.':'VIPW', 'Dr.':'Mr','Master.':'Master', \n",
    "               'Miss.':'Miss','Lady.':'VIPW','Dona.':'VIPW'})\n",
    "\n",
    "comb = comb.assign(Title=pd.Series(np.random.randn(len(comb))).values)\n",
    "names = list(comb['Name'])\n",
    "for i in range(len(names)):\n",
    "    name_list = names[i].split(',')\n",
    "    name_list = name_list[1].split(' ')\n",
    "    for word in name_list[1:]:\n",
    "        if '.' in word:\n",
    "            comb['Title'].iloc[i] = title_dict[word]\n",
    "            break"
   ]
  },
  {
   "cell_type": "code",
   "execution_count": 3,
   "metadata": {},
   "outputs": [
    {
     "data": {
      "image/png": "[encoded data removed]",
      "text/plain": [
       "<Figure size 432x288 with 1 Axes>"
      ]
     },
     "metadata": {},
     "output_type": "display_data"
    }
   ],
   "source": [
    "ax = sns.barplot(x=comb['Title'][~comb['Survived'].isnull()], hue=comb['Pclass'], y=train['Survived'])\n",
    "plt.show()"
   ]
  },
  {
   "cell_type": "markdown",
   "metadata": {},
   "source": [
    "Both 'VIP' and, to a lesser extent, 'Master', exhibit a high amount of variability.  This could be a problem, and I don't know yet whether I want to use Titles for classification. "
   ]
  },
  {
   "cell_type": "code",
   "execution_count": 4,
   "metadata": {},
   "outputs": [
    {
     "data": {
      "text/plain": [
       "Title\n",
       "Master     61\n",
       "Miss      262\n",
       "Mr        773\n",
       "Mrs       200\n",
       "VIP        10\n",
       "VIPW        3\n",
       "Name: Title, dtype: int64"
      ]
     },
     "execution_count": 4,
     "metadata": {},
     "output_type": "execute_result"
    }
   ],
   "source": [
    "comb[['Title']].groupby('Title')['Title'].count()"
   ]
  },
  {
   "cell_type": "markdown",
   "metadata": {},
   "source": [
    "The count of VIP is low, so the variability doesn't bother me.  But because Master is highly variable and its count is much higher, it will eventually be worth studying this category."
   ]
  },
  {
   "cell_type": "markdown",
   "metadata": {},
   "source": [
    "### 1.2. SibSp, Parch, and Shared tickets\n",
    "Many families traveled on the same ticket.  Let's find all people traveling on shared tickets and evaluate their survival rates."
   ]
  },
  {
   "cell_type": "code",
   "execution_count": 5,
   "metadata": {},
   "outputs": [
    {
     "data": {
      "image/png": "[encoded data removed]",
      "text/plain": [
       "<Figure size 432x288 with 1 Axes>"
      ]
     },
     "metadata": {},
     "output_type": "display_data"
    }
   ],
   "source": [
    "comb['Shared_Ticket'] = comb.duplicated('Ticket', keep=False)\n",
    "ax = sns.barplot(x=comb['Shared_Ticket'][~comb['Survived'].isnull()], y=train['Survived'])\n",
    "plt.show()"
   ]
  },
  {
   "cell_type": "markdown",
   "metadata": {},
   "source": [
    "Those on shared tickets were roughly twice as likely to survive.  It might make sense to combine SibSp, Parch, and Shared_Ticket into categories that reflect the sizes of traveling groups.  "
   ]
  },
  {
   "cell_type": "code",
   "execution_count": 6,
   "metadata": {},
   "outputs": [],
   "source": [
    "summed = comb['Parch']+comb['SibSp']+1\n",
    "grouped = comb[['Ticket']].groupby('Ticket').size()\n",
    "comb['Ticket_Count'] = np.array(grouped[comb['Ticket']])\n",
    "comb['Group_Size'] = pd.concat([comb['Ticket_Count'], summed], axis=1).max(axis=1)"
   ]
  },
  {
   "cell_type": "code",
   "execution_count": 7,
   "metadata": {
    "scrolled": true
   },
   "outputs": [
    {
     "data": {
      "image/png": "[encoded data removed]",
      "text/plain": [
       "<Figure size 432x288 with 1 Axes>"
      ]
     },
     "metadata": {},
     "output_type": "display_data"
    }
   ],
   "source": [
    "ax = sns.barplot(x=comb['Group_Size'][~comb['Survived'].isnull()] , y=train['Survived'])\n",
    "plt.show()"
   ]
  },
  {
   "cell_type": "markdown",
   "metadata": {},
   "source": [
    "To me, there are four distinct groupings: those traveling in groups of size 1, size 2, size 3-4, and size 5+."
   ]
  },
  {
   "cell_type": "code",
   "execution_count": 8,
   "metadata": {},
   "outputs": [],
   "source": [
    "def size_groups(x):\n",
    "    if x == 1:\n",
    "        return 1\n",
    "    if x == 2:\n",
    "        return 2\n",
    "    if 3<= x <= 4:\n",
    "        return 3\n",
    "    else:\n",
    "        return 4"
   ]
  },
  {
   "cell_type": "code",
   "execution_count": 9,
   "metadata": {},
   "outputs": [],
   "source": [
    "comb['Groups'] = comb['Group_Size'].transform(size_groups)"
   ]
  },
  {
   "cell_type": "code",
   "execution_count": 10,
   "metadata": {
    "scrolled": true
   },
   "outputs": [
    {
     "data": {
      "image/png": "[encoded data removed]",
      "text/plain": [
       "<Figure size 432x288 with 1 Axes>"
      ]
     },
     "metadata": {},
     "output_type": "display_data"
    }
   ],
   "source": [
    "ax = sns.barplot(x=comb['Groups'][~comb['Survived'].isnull()], hue=comb['Pclass'], y=train['Survived'])\n",
    "plt.show()"
   ]
  },
  {
   "cell_type": "markdown",
   "metadata": {},
   "source": [
    "The survival rates of 2nd class passengers in large groups has high variability."
   ]
  },
  {
   "cell_type": "markdown",
   "metadata": {},
   "source": [
    "Now that we've accounted for group size, perhaps special emphasis should be placed on family groups.  Let's make a column for it."
   ]
  },
  {
   "cell_type": "code",
   "execution_count": 11,
   "metadata": {},
   "outputs": [],
   "source": [
    "def f(x):\n",
    "    if x > 0:\n",
    "        return True\n",
    "    else:\n",
    "        return False\n",
    "col1 = comb['SibSp'].map(f)\n",
    "col2 = comb['Parch'].map(f)\n",
    "comb['With_Family'] = col1 | col2"
   ]
  },
  {
   "cell_type": "code",
   "execution_count": 12,
   "metadata": {},
   "outputs": [
    {
     "data": {
      "image/png": "[encoded data removed]",
      "text/plain": [
       "<Figure size 432x288 with 1 Axes>"
      ]
     },
     "metadata": {},
     "output_type": "display_data"
    }
   ],
   "source": [
    "ax = sns.barplot(x=comb['Groups'][~comb['Survived'].isnull()], hue=comb['With_Family'], y=train['Survived'])\n",
    "plt.show()"
   ]
  },
  {
   "cell_type": "markdown",
   "metadata": {},
   "source": [
    "### 1.3. Processing ages"
   ]
  },
  {
   "cell_type": "code",
   "execution_count": 13,
   "metadata": {},
   "outputs": [
    {
     "data": {
      "image/png": "[encoded data removed]",
      "text/plain": [
       "<Figure size 432x288 with 1 Axes>"
      ]
     },
     "metadata": {},
     "output_type": "display_data"
    }
   ],
   "source": [
    "ax = sns.countplot(x=comb['Age'][~comb['Survived'].isnull()].transform(lambda x:x // 10),  hue=train['Survived'])\n",
    "ax.set(xlabel = 'Age in decades')\n",
    "plt.show()"
   ]
  },
  {
   "cell_type": "markdown",
   "metadata": {},
   "source": [
    "Age is tricky.  One striking thing about this is that when we divide ages by decade, the only age group in which survival chances are higher is 0-10, while those range 20-30 were more likely to die than survive. We might want to include categories to reflect this fact.\n",
    "\n",
    "Many age values are missing, and some decades exhibit a large amount of variability in survival rates.  The most straightforward way to fill in the missing ages is to use linear regression."
   ]
  },
  {
   "cell_type": "code",
   "execution_count": 14,
   "metadata": {},
   "outputs": [],
   "source": [
    "clf_age = svm.SVR(kernel='linear')\n",
    "Age_full = comb[['SibSp','Parch','With_Family','Groups','Sex','Title','Pclass','Age']].copy()\n",
    "y_age_train = Age_full[['Age']][~comb['Age'].isnull()]\n",
    "Age_d = pd.get_dummies(data=Age_full, columns=['With_Family','Groups','Sex','Title','Pclass'])\n",
    "Age_train = Age_d[~Age_d['Age'].isnull()].drop(columns=['Age'])\n",
    "Age_test = Age_d[Age_d['Age'].isnull()].drop(columns=['Age'])"
   ]
  },
  {
   "cell_type": "code",
   "execution_count": 15,
   "metadata": {},
   "outputs": [],
   "source": [
    "clf_age.fit(Age_train, np.array(y_age_train).ravel())\n",
    "age_pred = clf_age.predict(Age_test)"
   ]
  },
  {
   "cell_type": "code",
   "execution_count": 16,
   "metadata": {},
   "outputs": [],
   "source": [
    "miss_idx = np.where(comb['Age'].isnull())[0]\n",
    "for i, d in enumerate(miss_idx):\n",
    "    comb.loc[d, 'Age'] = age_pred[i]"
   ]
  },
  {
   "cell_type": "code",
   "execution_count": 17,
   "metadata": {
    "scrolled": true
   },
   "outputs": [
    {
     "data": {
      "image/png": "[encoded data removed]",
      "text/plain": [
       "<Figure size 432x288 with 1 Axes>"
      ]
     },
     "metadata": {},
     "output_type": "display_data"
    }
   ],
   "source": [
    "ax = sns.barplot(x=comb['Age'][~comb['Survived'].isnull()].transform(lambda x:x // 10), hue=comb['Pclass'], y=train['Survived'])\n",
    "ax.set(xlabel = 'Age in decades')\n",
    "plt.show()"
   ]
  },
  {
   "cell_type": "markdown",
   "metadata": {},
   "source": [
    "We make two categories: one for passengers 10 and under, and one for passengers aged 20-30.  You can also play around with whether or not you want to include other criteria. Including these two categories improved my final score."
   ]
  },
  {
   "cell_type": "code",
   "execution_count": 18,
   "metadata": {},
   "outputs": [],
   "source": [
    "s = comb[['Pclass']].transform(lambda x: x != 3)\n",
    "t = comb[['Age']].transform(lambda x: x <= 10)\n",
    "comb['Child'] = s['Pclass'] & t['Age']"
   ]
  },
  {
   "cell_type": "code",
   "execution_count": 19,
   "metadata": {},
   "outputs": [],
   "source": [
    "col1 = comb[['Sex']].transform(lambda x: x == 'male')\n",
    "col2 = comb[['Age']].transform(lambda x: (20 <= x) & (x <= 30))\n",
    "comb['20to30'] = col1['Sex'] & col2['Age']"
   ]
  },
  {
   "cell_type": "markdown",
   "metadata": {},
   "source": [
    "### 1.4. Pclass, Embarked, and Fare"
   ]
  },
  {
   "cell_type": "markdown",
   "metadata": {},
   "source": [
    "Pclass is not missing any values. "
   ]
  },
  {
   "cell_type": "code",
   "execution_count": 20,
   "metadata": {
    "scrolled": true
   },
   "outputs": [
    {
     "data": {
      "image/png": "[encoded data removed]",
      "text/plain": [
       "<Figure size 432x288 with 1 Axes>"
      ]
     },
     "metadata": {},
     "output_type": "display_data"
    }
   ],
   "source": [
    "ax = sns.barplot(x=comb['Pclass'][~comb['Survived'].isnull()], y=train['Survived'])\n",
    "ax.set(xlabel = 'Pclass')\n",
    "plt.show()"
   ]
  },
  {
   "cell_type": "markdown",
   "metadata": {},
   "source": [
    "Clearly, those in 1st class were more likely to survive, and those in 3rd class were more likely to die; from popular knowledge of the disaster, this is not surprising.  2nd class is essentially a coin toss. "
   ]
  },
  {
   "cell_type": "markdown",
   "metadata": {},
   "source": [
    "Fare is missing a couple of values. and it also has some 0 values (?).  These 0 values might mess things up, so we should change them to match Pclass and Embarked. We compute the Fare Per Person using Ticket_Count."
   ]
  },
  {
   "cell_type": "code",
   "execution_count": 21,
   "metadata": {},
   "outputs": [],
   "source": [
    "comb['FarePP'] = comb['Fare']/comb['Ticket_Count']"
   ]
  },
  {
   "cell_type": "code",
   "execution_count": 22,
   "metadata": {},
   "outputs": [
    {
     "data": {
      "text/html": [
       "<div>\n",
       "<style scoped>\n",
       "    .dataframe tbody tr th:only-of-type {\n",
       "        vertical-align: middle;\n",
       "    }\n",
       "\n",
       "    .dataframe tbody tr th {\n",
       "        vertical-align: top;\n",
       "    }\n",
       "\n",
       "    .dataframe thead th {\n",
       "        text-align: right;\n",
       "    }\n",
       "</style>\n",
       "<table border=\"1\" class=\"dataframe\">\n",
       "  <thead>\n",
       "    <tr style=\"text-align: right;\">\n",
       "      <th></th>\n",
       "      <th></th>\n",
       "      <th>FarePP</th>\n",
       "    </tr>\n",
       "    <tr>\n",
       "      <th>Embarked</th>\n",
       "      <th>Pclass</th>\n",
       "      <th></th>\n",
       "    </tr>\n",
       "  </thead>\n",
       "  <tbody>\n",
       "    <tr>\n",
       "      <th rowspan=\"3\" valign=\"top\">C</th>\n",
       "      <th>1</th>\n",
       "      <td>34.6500</td>\n",
       "    </tr>\n",
       "    <tr>\n",
       "      <th>2</th>\n",
       "      <td>13.8583</td>\n",
       "    </tr>\n",
       "    <tr>\n",
       "      <th>3</th>\n",
       "      <td>7.2271</td>\n",
       "    </tr>\n",
       "    <tr>\n",
       "      <th rowspan=\"3\" valign=\"top\">Q</th>\n",
       "      <th>1</th>\n",
       "      <td>30.0000</td>\n",
       "    </tr>\n",
       "    <tr>\n",
       "      <th>2</th>\n",
       "      <td>12.3500</td>\n",
       "    </tr>\n",
       "    <tr>\n",
       "      <th>3</th>\n",
       "      <td>7.7500</td>\n",
       "    </tr>\n",
       "    <tr>\n",
       "      <th rowspan=\"3\" valign=\"top\">S</th>\n",
       "      <th>1</th>\n",
       "      <td>26.5500</td>\n",
       "    </tr>\n",
       "    <tr>\n",
       "      <th>2</th>\n",
       "      <td>11.5000</td>\n",
       "    </tr>\n",
       "    <tr>\n",
       "      <th>3</th>\n",
       "      <td>7.7958</td>\n",
       "    </tr>\n",
       "  </tbody>\n",
       "</table>\n",
       "</div>"
      ],
      "text/plain": [
       "                  FarePP\n",
       "Embarked Pclass         \n",
       "C        1       34.6500\n",
       "         2       13.8583\n",
       "         3        7.2271\n",
       "Q        1       30.0000\n",
       "         2       12.3500\n",
       "         3        7.7500\n",
       "S        1       26.5500\n",
       "         2       11.5000\n",
       "         3        7.7958"
      ]
     },
     "execution_count": 22,
     "metadata": {},
     "output_type": "execute_result"
    }
   ],
   "source": [
    "grouped = comb[['FarePP','Embarked','Pclass']].groupby(['Embarked','Pclass']).median()\n",
    "grouped"
   ]
  },
  {
   "cell_type": "markdown",
   "metadata": {},
   "source": [
    "With this, we fill in the missing Fare value."
   ]
  },
  {
   "cell_type": "code",
   "execution_count": 23,
   "metadata": {},
   "outputs": [],
   "source": [
    "comb.loc[comb['PassengerId']==1044, 'Fare']= 7.7958"
   ]
  },
  {
   "cell_type": "markdown",
   "metadata": {},
   "source": [
    "Now we tackle the missing Embarked values."
   ]
  },
  {
   "cell_type": "code",
   "execution_count": 24,
   "metadata": {},
   "outputs": [
    {
     "data": {
      "text/html": [
       "<div>\n",
       "<style scoped>\n",
       "    .dataframe tbody tr th:only-of-type {\n",
       "        vertical-align: middle;\n",
       "    }\n",
       "\n",
       "    .dataframe tbody tr th {\n",
       "        vertical-align: top;\n",
       "    }\n",
       "\n",
       "    .dataframe thead th {\n",
       "        text-align: right;\n",
       "    }\n",
       "</style>\n",
       "<table border=\"1\" class=\"dataframe\">\n",
       "  <thead>\n",
       "    <tr style=\"text-align: right;\">\n",
       "      <th></th>\n",
       "      <th>Age</th>\n",
       "      <th>Cabin</th>\n",
       "      <th>Embarked</th>\n",
       "      <th>Fare</th>\n",
       "      <th>Name</th>\n",
       "      <th>Parch</th>\n",
       "      <th>PassengerId</th>\n",
       "      <th>Pclass</th>\n",
       "      <th>Sex</th>\n",
       "      <th>SibSp</th>\n",
       "      <th>...</th>\n",
       "      <th>Ticket</th>\n",
       "      <th>Title</th>\n",
       "      <th>Shared_Ticket</th>\n",
       "      <th>Ticket_Count</th>\n",
       "      <th>Group_Size</th>\n",
       "      <th>Groups</th>\n",
       "      <th>With_Family</th>\n",
       "      <th>Child</th>\n",
       "      <th>20to30</th>\n",
       "      <th>FarePP</th>\n",
       "    </tr>\n",
       "  </thead>\n",
       "  <tbody>\n",
       "    <tr>\n",
       "      <th>61</th>\n",
       "      <td>38.0</td>\n",
       "      <td>B28</td>\n",
       "      <td>NaN</td>\n",
       "      <td>80.0</td>\n",
       "      <td>Icard, Miss. Amelie</td>\n",
       "      <td>0</td>\n",
       "      <td>62</td>\n",
       "      <td>1</td>\n",
       "      <td>female</td>\n",
       "      <td>0</td>\n",
       "      <td>...</td>\n",
       "      <td>113572</td>\n",
       "      <td>Miss</td>\n",
       "      <td>True</td>\n",
       "      <td>2</td>\n",
       "      <td>2</td>\n",
       "      <td>2</td>\n",
       "      <td>False</td>\n",
       "      <td>False</td>\n",
       "      <td>False</td>\n",
       "      <td>40.0</td>\n",
       "    </tr>\n",
       "    <tr>\n",
       "      <th>829</th>\n",
       "      <td>62.0</td>\n",
       "      <td>B28</td>\n",
       "      <td>NaN</td>\n",
       "      <td>80.0</td>\n",
       "      <td>Stone, Mrs. George Nelson (Martha Evelyn)</td>\n",
       "      <td>0</td>\n",
       "      <td>830</td>\n",
       "      <td>1</td>\n",
       "      <td>female</td>\n",
       "      <td>0</td>\n",
       "      <td>...</td>\n",
       "      <td>113572</td>\n",
       "      <td>Mrs</td>\n",
       "      <td>True</td>\n",
       "      <td>2</td>\n",
       "      <td>2</td>\n",
       "      <td>2</td>\n",
       "      <td>False</td>\n",
       "      <td>False</td>\n",
       "      <td>False</td>\n",
       "      <td>40.0</td>\n",
       "    </tr>\n",
       "  </tbody>\n",
       "</table>\n",
       "<p>2 rows × 21 columns</p>\n",
       "</div>"
      ],
      "text/plain": [
       "      Age Cabin Embarked  Fare                                       Name  \\\n",
       "61   38.0   B28      NaN  80.0                        Icard, Miss. Amelie   \n",
       "829  62.0   B28      NaN  80.0  Stone, Mrs. George Nelson (Martha Evelyn)   \n",
       "\n",
       "     Parch  PassengerId  Pclass     Sex  SibSp   ...    Ticket Title  \\\n",
       "61       0           62       1  female      0   ...    113572  Miss   \n",
       "829      0          830       1  female      0   ...    113572   Mrs   \n",
       "\n",
       "    Shared_Ticket  Ticket_Count  Group_Size  Groups  With_Family  Child  \\\n",
       "61           True             2           2       2        False  False   \n",
       "829          True             2           2       2        False  False   \n",
       "\n",
       "     20to30  FarePP  \n",
       "61    False    40.0  \n",
       "829   False    40.0  \n",
       "\n",
       "[2 rows x 21 columns]"
      ]
     },
     "execution_count": 24,
     "metadata": {},
     "output_type": "execute_result"
    }
   ],
   "source": [
    "comb.query('Embarked != Embarked')"
   ]
  },
  {
   "cell_type": "markdown",
   "metadata": {},
   "source": [
    "Based on the FarePP and Pclass, they probably boarded at Cherbourg."
   ]
  },
  {
   "cell_type": "code",
   "execution_count": 25,
   "metadata": {},
   "outputs": [],
   "source": [
    "comb.loc[comb['PassengerId']==62, 'Embarked']='C'\n",
    "comb.loc[comb['PassengerId']==830,'Embarked']='C'"
   ]
  },
  {
   "cell_type": "code",
   "execution_count": 26,
   "metadata": {
    "scrolled": true
   },
   "outputs": [
    {
     "data": {
      "image/png": "[encoded data removed]",
      "text/plain": [
       "<Figure size 432x288 with 1 Axes>"
      ]
     },
     "metadata": {},
     "output_type": "display_data"
    }
   ],
   "source": [
    "ax = sns.barplot(x=comb['Embarked'][~comb['Survived'].isnull()], y=train['Survived'])\n",
    "ax.set(xlabel = 'Embarked')\n",
    "plt.show()"
   ]
  },
  {
   "cell_type": "markdown",
   "metadata": {},
   "source": [
    "It's not clear if Embarked is important or not."
   ]
  },
  {
   "cell_type": "markdown",
   "metadata": {},
   "source": [
    "Now to handle missing FarePP values.  The missing values, and the values currently set to 0, will be set to the median relative to Embarked and Pclass."
   ]
  },
  {
   "cell_type": "code",
   "execution_count": 27,
   "metadata": {
    "scrolled": false
   },
   "outputs": [
    {
     "data": {
      "text/html": [
       "<div>\n",
       "<style scoped>\n",
       "    .dataframe tbody tr th:only-of-type {\n",
       "        vertical-align: middle;\n",
       "    }\n",
       "\n",
       "    .dataframe tbody tr th {\n",
       "        vertical-align: top;\n",
       "    }\n",
       "\n",
       "    .dataframe thead th {\n",
       "        text-align: right;\n",
       "    }\n",
       "</style>\n",
       "<table border=\"1\" class=\"dataframe\">\n",
       "  <thead>\n",
       "    <tr style=\"text-align: right;\">\n",
       "      <th></th>\n",
       "      <th>Age</th>\n",
       "      <th>Cabin</th>\n",
       "      <th>Embarked</th>\n",
       "      <th>Fare</th>\n",
       "      <th>Name</th>\n",
       "      <th>Parch</th>\n",
       "      <th>PassengerId</th>\n",
       "      <th>Pclass</th>\n",
       "      <th>Sex</th>\n",
       "      <th>SibSp</th>\n",
       "      <th>...</th>\n",
       "      <th>Ticket</th>\n",
       "      <th>Title</th>\n",
       "      <th>Shared_Ticket</th>\n",
       "      <th>Ticket_Count</th>\n",
       "      <th>Group_Size</th>\n",
       "      <th>Groups</th>\n",
       "      <th>With_Family</th>\n",
       "      <th>Child</th>\n",
       "      <th>20to30</th>\n",
       "      <th>FarePP</th>\n",
       "    </tr>\n",
       "  </thead>\n",
       "  <tbody>\n",
       "    <tr>\n",
       "      <th>179</th>\n",
       "      <td>36.000000</td>\n",
       "      <td>NaN</td>\n",
       "      <td>S</td>\n",
       "      <td>0.0</td>\n",
       "      <td>Leonard, Mr. Lionel</td>\n",
       "      <td>0</td>\n",
       "      <td>180</td>\n",
       "      <td>3</td>\n",
       "      <td>male</td>\n",
       "      <td>0</td>\n",
       "      <td>...</td>\n",
       "      <td>LINE</td>\n",
       "      <td>Mr</td>\n",
       "      <td>True</td>\n",
       "      <td>4</td>\n",
       "      <td>4</td>\n",
       "      <td>3</td>\n",
       "      <td>False</td>\n",
       "      <td>False</td>\n",
       "      <td>False</td>\n",
       "      <td>0.0</td>\n",
       "    </tr>\n",
       "    <tr>\n",
       "      <th>263</th>\n",
       "      <td>40.000000</td>\n",
       "      <td>B94</td>\n",
       "      <td>S</td>\n",
       "      <td>0.0</td>\n",
       "      <td>Harrison, Mr. William</td>\n",
       "      <td>0</td>\n",
       "      <td>264</td>\n",
       "      <td>1</td>\n",
       "      <td>male</td>\n",
       "      <td>0</td>\n",
       "      <td>...</td>\n",
       "      <td>112059</td>\n",
       "      <td>Mr</td>\n",
       "      <td>False</td>\n",
       "      <td>1</td>\n",
       "      <td>1</td>\n",
       "      <td>1</td>\n",
       "      <td>False</td>\n",
       "      <td>False</td>\n",
       "      <td>False</td>\n",
       "      <td>0.0</td>\n",
       "    </tr>\n",
       "    <tr>\n",
       "      <th>271</th>\n",
       "      <td>25.000000</td>\n",
       "      <td>NaN</td>\n",
       "      <td>S</td>\n",
       "      <td>0.0</td>\n",
       "      <td>Tornquist, Mr. William Henry</td>\n",
       "      <td>0</td>\n",
       "      <td>272</td>\n",
       "      <td>3</td>\n",
       "      <td>male</td>\n",
       "      <td>0</td>\n",
       "      <td>...</td>\n",
       "      <td>LINE</td>\n",
       "      <td>Mr</td>\n",
       "      <td>True</td>\n",
       "      <td>4</td>\n",
       "      <td>4</td>\n",
       "      <td>3</td>\n",
       "      <td>False</td>\n",
       "      <td>False</td>\n",
       "      <td>True</td>\n",
       "      <td>0.0</td>\n",
       "    </tr>\n",
       "    <tr>\n",
       "      <th>277</th>\n",
       "      <td>27.269665</td>\n",
       "      <td>NaN</td>\n",
       "      <td>S</td>\n",
       "      <td>0.0</td>\n",
       "      <td>Parkes, Mr. Francis \"Frank\"</td>\n",
       "      <td>0</td>\n",
       "      <td>278</td>\n",
       "      <td>2</td>\n",
       "      <td>male</td>\n",
       "      <td>0</td>\n",
       "      <td>...</td>\n",
       "      <td>239853</td>\n",
       "      <td>Mr</td>\n",
       "      <td>True</td>\n",
       "      <td>3</td>\n",
       "      <td>3</td>\n",
       "      <td>3</td>\n",
       "      <td>False</td>\n",
       "      <td>False</td>\n",
       "      <td>True</td>\n",
       "      <td>0.0</td>\n",
       "    </tr>\n",
       "    <tr>\n",
       "      <th>302</th>\n",
       "      <td>19.000000</td>\n",
       "      <td>NaN</td>\n",
       "      <td>S</td>\n",
       "      <td>0.0</td>\n",
       "      <td>Johnson, Mr. William Cahoone Jr</td>\n",
       "      <td>0</td>\n",
       "      <td>303</td>\n",
       "      <td>3</td>\n",
       "      <td>male</td>\n",
       "      <td>0</td>\n",
       "      <td>...</td>\n",
       "      <td>LINE</td>\n",
       "      <td>Mr</td>\n",
       "      <td>True</td>\n",
       "      <td>4</td>\n",
       "      <td>4</td>\n",
       "      <td>3</td>\n",
       "      <td>False</td>\n",
       "      <td>False</td>\n",
       "      <td>False</td>\n",
       "      <td>0.0</td>\n",
       "    </tr>\n",
       "    <tr>\n",
       "      <th>413</th>\n",
       "      <td>27.269665</td>\n",
       "      <td>NaN</td>\n",
       "      <td>S</td>\n",
       "      <td>0.0</td>\n",
       "      <td>Cunningham, Mr. Alfred Fleming</td>\n",
       "      <td>0</td>\n",
       "      <td>414</td>\n",
       "      <td>2</td>\n",
       "      <td>male</td>\n",
       "      <td>0</td>\n",
       "      <td>...</td>\n",
       "      <td>239853</td>\n",
       "      <td>Mr</td>\n",
       "      <td>True</td>\n",
       "      <td>3</td>\n",
       "      <td>3</td>\n",
       "      <td>3</td>\n",
       "      <td>False</td>\n",
       "      <td>False</td>\n",
       "      <td>True</td>\n",
       "      <td>0.0</td>\n",
       "    </tr>\n",
       "    <tr>\n",
       "      <th>466</th>\n",
       "      <td>27.269665</td>\n",
       "      <td>NaN</td>\n",
       "      <td>S</td>\n",
       "      <td>0.0</td>\n",
       "      <td>Campbell, Mr. William</td>\n",
       "      <td>0</td>\n",
       "      <td>467</td>\n",
       "      <td>2</td>\n",
       "      <td>male</td>\n",
       "      <td>0</td>\n",
       "      <td>...</td>\n",
       "      <td>239853</td>\n",
       "      <td>Mr</td>\n",
       "      <td>True</td>\n",
       "      <td>3</td>\n",
       "      <td>3</td>\n",
       "      <td>3</td>\n",
       "      <td>False</td>\n",
       "      <td>False</td>\n",
       "      <td>True</td>\n",
       "      <td>0.0</td>\n",
       "    </tr>\n",
       "    <tr>\n",
       "      <th>481</th>\n",
       "      <td>30.100435</td>\n",
       "      <td>NaN</td>\n",
       "      <td>S</td>\n",
       "      <td>0.0</td>\n",
       "      <td>Frost, Mr. Anthony Wood \"Archie\"</td>\n",
       "      <td>0</td>\n",
       "      <td>482</td>\n",
       "      <td>2</td>\n",
       "      <td>male</td>\n",
       "      <td>0</td>\n",
       "      <td>...</td>\n",
       "      <td>239854</td>\n",
       "      <td>Mr</td>\n",
       "      <td>False</td>\n",
       "      <td>1</td>\n",
       "      <td>1</td>\n",
       "      <td>1</td>\n",
       "      <td>False</td>\n",
       "      <td>False</td>\n",
       "      <td>False</td>\n",
       "      <td>0.0</td>\n",
       "    </tr>\n",
       "    <tr>\n",
       "      <th>597</th>\n",
       "      <td>49.000000</td>\n",
       "      <td>NaN</td>\n",
       "      <td>S</td>\n",
       "      <td>0.0</td>\n",
       "      <td>Johnson, Mr. Alfred</td>\n",
       "      <td>0</td>\n",
       "      <td>598</td>\n",
       "      <td>3</td>\n",
       "      <td>male</td>\n",
       "      <td>0</td>\n",
       "      <td>...</td>\n",
       "      <td>LINE</td>\n",
       "      <td>Mr</td>\n",
       "      <td>True</td>\n",
       "      <td>4</td>\n",
       "      <td>4</td>\n",
       "      <td>3</td>\n",
       "      <td>False</td>\n",
       "      <td>False</td>\n",
       "      <td>False</td>\n",
       "      <td>0.0</td>\n",
       "    </tr>\n",
       "    <tr>\n",
       "      <th>633</th>\n",
       "      <td>41.092041</td>\n",
       "      <td>NaN</td>\n",
       "      <td>S</td>\n",
       "      <td>0.0</td>\n",
       "      <td>Parr, Mr. William Henry Marsh</td>\n",
       "      <td>0</td>\n",
       "      <td>634</td>\n",
       "      <td>1</td>\n",
       "      <td>male</td>\n",
       "      <td>0</td>\n",
       "      <td>...</td>\n",
       "      <td>112052</td>\n",
       "      <td>Mr</td>\n",
       "      <td>False</td>\n",
       "      <td>1</td>\n",
       "      <td>1</td>\n",
       "      <td>1</td>\n",
       "      <td>False</td>\n",
       "      <td>False</td>\n",
       "      <td>False</td>\n",
       "      <td>0.0</td>\n",
       "    </tr>\n",
       "    <tr>\n",
       "      <th>674</th>\n",
       "      <td>30.100435</td>\n",
       "      <td>NaN</td>\n",
       "      <td>S</td>\n",
       "      <td>0.0</td>\n",
       "      <td>Watson, Mr. Ennis Hastings</td>\n",
       "      <td>0</td>\n",
       "      <td>675</td>\n",
       "      <td>2</td>\n",
       "      <td>male</td>\n",
       "      <td>0</td>\n",
       "      <td>...</td>\n",
       "      <td>239856</td>\n",
       "      <td>Mr</td>\n",
       "      <td>False</td>\n",
       "      <td>1</td>\n",
       "      <td>1</td>\n",
       "      <td>1</td>\n",
       "      <td>False</td>\n",
       "      <td>False</td>\n",
       "      <td>False</td>\n",
       "      <td>0.0</td>\n",
       "    </tr>\n",
       "    <tr>\n",
       "      <th>732</th>\n",
       "      <td>30.100435</td>\n",
       "      <td>NaN</td>\n",
       "      <td>S</td>\n",
       "      <td>0.0</td>\n",
       "      <td>Knight, Mr. Robert J</td>\n",
       "      <td>0</td>\n",
       "      <td>733</td>\n",
       "      <td>2</td>\n",
       "      <td>male</td>\n",
       "      <td>0</td>\n",
       "      <td>...</td>\n",
       "      <td>239855</td>\n",
       "      <td>Mr</td>\n",
       "      <td>False</td>\n",
       "      <td>1</td>\n",
       "      <td>1</td>\n",
       "      <td>1</td>\n",
       "      <td>False</td>\n",
       "      <td>False</td>\n",
       "      <td>False</td>\n",
       "      <td>0.0</td>\n",
       "    </tr>\n",
       "    <tr>\n",
       "      <th>806</th>\n",
       "      <td>39.000000</td>\n",
       "      <td>A36</td>\n",
       "      <td>S</td>\n",
       "      <td>0.0</td>\n",
       "      <td>Andrews, Mr. Thomas Jr</td>\n",
       "      <td>0</td>\n",
       "      <td>807</td>\n",
       "      <td>1</td>\n",
       "      <td>male</td>\n",
       "      <td>0</td>\n",
       "      <td>...</td>\n",
       "      <td>112050</td>\n",
       "      <td>Mr</td>\n",
       "      <td>False</td>\n",
       "      <td>1</td>\n",
       "      <td>1</td>\n",
       "      <td>1</td>\n",
       "      <td>False</td>\n",
       "      <td>False</td>\n",
       "      <td>False</td>\n",
       "      <td>0.0</td>\n",
       "    </tr>\n",
       "    <tr>\n",
       "      <th>815</th>\n",
       "      <td>40.051828</td>\n",
       "      <td>B102</td>\n",
       "      <td>S</td>\n",
       "      <td>0.0</td>\n",
       "      <td>Fry, Mr. Richard</td>\n",
       "      <td>0</td>\n",
       "      <td>816</td>\n",
       "      <td>1</td>\n",
       "      <td>male</td>\n",
       "      <td>0</td>\n",
       "      <td>...</td>\n",
       "      <td>112058</td>\n",
       "      <td>Mr</td>\n",
       "      <td>True</td>\n",
       "      <td>2</td>\n",
       "      <td>2</td>\n",
       "      <td>2</td>\n",
       "      <td>False</td>\n",
       "      <td>False</td>\n",
       "      <td>False</td>\n",
       "      <td>0.0</td>\n",
       "    </tr>\n",
       "    <tr>\n",
       "      <th>822</th>\n",
       "      <td>38.000000</td>\n",
       "      <td>NaN</td>\n",
       "      <td>S</td>\n",
       "      <td>0.0</td>\n",
       "      <td>Reuchlin, Jonkheer. John George</td>\n",
       "      <td>0</td>\n",
       "      <td>823</td>\n",
       "      <td>1</td>\n",
       "      <td>male</td>\n",
       "      <td>0</td>\n",
       "      <td>...</td>\n",
       "      <td>19972</td>\n",
       "      <td>VIP</td>\n",
       "      <td>False</td>\n",
       "      <td>1</td>\n",
       "      <td>1</td>\n",
       "      <td>1</td>\n",
       "      <td>False</td>\n",
       "      <td>False</td>\n",
       "      <td>False</td>\n",
       "      <td>0.0</td>\n",
       "    </tr>\n",
       "    <tr>\n",
       "      <th>1157</th>\n",
       "      <td>41.092041</td>\n",
       "      <td>NaN</td>\n",
       "      <td>S</td>\n",
       "      <td>0.0</td>\n",
       "      <td>Chisholm, Mr. Roderick Robert Crispin</td>\n",
       "      <td>0</td>\n",
       "      <td>1158</td>\n",
       "      <td>1</td>\n",
       "      <td>male</td>\n",
       "      <td>0</td>\n",
       "      <td>...</td>\n",
       "      <td>112051</td>\n",
       "      <td>Mr</td>\n",
       "      <td>False</td>\n",
       "      <td>1</td>\n",
       "      <td>1</td>\n",
       "      <td>1</td>\n",
       "      <td>False</td>\n",
       "      <td>False</td>\n",
       "      <td>False</td>\n",
       "      <td>0.0</td>\n",
       "    </tr>\n",
       "    <tr>\n",
       "      <th>1263</th>\n",
       "      <td>49.000000</td>\n",
       "      <td>B52 B54 B56</td>\n",
       "      <td>S</td>\n",
       "      <td>0.0</td>\n",
       "      <td>Ismay, Mr. Joseph Bruce</td>\n",
       "      <td>0</td>\n",
       "      <td>1264</td>\n",
       "      <td>1</td>\n",
       "      <td>male</td>\n",
       "      <td>0</td>\n",
       "      <td>...</td>\n",
       "      <td>112058</td>\n",
       "      <td>Mr</td>\n",
       "      <td>True</td>\n",
       "      <td>2</td>\n",
       "      <td>2</td>\n",
       "      <td>2</td>\n",
       "      <td>False</td>\n",
       "      <td>False</td>\n",
       "      <td>False</td>\n",
       "      <td>0.0</td>\n",
       "    </tr>\n",
       "  </tbody>\n",
       "</table>\n",
       "<p>17 rows × 21 columns</p>\n",
       "</div>"
      ],
      "text/plain": [
       "            Age        Cabin Embarked  Fare  \\\n",
       "179   36.000000          NaN        S   0.0   \n",
       "263   40.000000          B94        S   0.0   \n",
       "271   25.000000          NaN        S   0.0   \n",
       "277   27.269665          NaN        S   0.0   \n",
       "302   19.000000          NaN        S   0.0   \n",
       "413   27.269665          NaN        S   0.0   \n",
       "466   27.269665          NaN        S   0.0   \n",
       "481   30.100435          NaN        S   0.0   \n",
       "597   49.000000          NaN        S   0.0   \n",
       "633   41.092041          NaN        S   0.0   \n",
       "674   30.100435          NaN        S   0.0   \n",
       "732   30.100435          NaN        S   0.0   \n",
       "806   39.000000          A36        S   0.0   \n",
       "815   40.051828         B102        S   0.0   \n",
       "822   38.000000          NaN        S   0.0   \n",
       "1157  41.092041          NaN        S   0.0   \n",
       "1263  49.000000  B52 B54 B56        S   0.0   \n",
       "\n",
       "                                       Name  Parch  PassengerId  Pclass   Sex  \\\n",
       "179                     Leonard, Mr. Lionel      0          180       3  male   \n",
       "263                   Harrison, Mr. William      0          264       1  male   \n",
       "271            Tornquist, Mr. William Henry      0          272       3  male   \n",
       "277             Parkes, Mr. Francis \"Frank\"      0          278       2  male   \n",
       "302         Johnson, Mr. William Cahoone Jr      0          303       3  male   \n",
       "413          Cunningham, Mr. Alfred Fleming      0          414       2  male   \n",
       "466                   Campbell, Mr. William      0          467       2  male   \n",
       "481        Frost, Mr. Anthony Wood \"Archie\"      0          482       2  male   \n",
       "597                     Johnson, Mr. Alfred      0          598       3  male   \n",
       "633           Parr, Mr. William Henry Marsh      0          634       1  male   \n",
       "674              Watson, Mr. Ennis Hastings      0          675       2  male   \n",
       "732                    Knight, Mr. Robert J      0          733       2  male   \n",
       "806                  Andrews, Mr. Thomas Jr      0          807       1  male   \n",
       "815                        Fry, Mr. Richard      0          816       1  male   \n",
       "822         Reuchlin, Jonkheer. John George      0          823       1  male   \n",
       "1157  Chisholm, Mr. Roderick Robert Crispin      0         1158       1  male   \n",
       "1263                Ismay, Mr. Joseph Bruce      0         1264       1  male   \n",
       "\n",
       "      SibSp   ...    Ticket Title Shared_Ticket  Ticket_Count  Group_Size  \\\n",
       "179       0   ...      LINE    Mr          True             4           4   \n",
       "263       0   ...    112059    Mr         False             1           1   \n",
       "271       0   ...      LINE    Mr          True             4           4   \n",
       "277       0   ...    239853    Mr          True             3           3   \n",
       "302       0   ...      LINE    Mr          True             4           4   \n",
       "413       0   ...    239853    Mr          True             3           3   \n",
       "466       0   ...    239853    Mr          True             3           3   \n",
       "481       0   ...    239854    Mr         False             1           1   \n",
       "597       0   ...      LINE    Mr          True             4           4   \n",
       "633       0   ...    112052    Mr         False             1           1   \n",
       "674       0   ...    239856    Mr         False             1           1   \n",
       "732       0   ...    239855    Mr         False             1           1   \n",
       "806       0   ...    112050    Mr         False             1           1   \n",
       "815       0   ...    112058    Mr          True             2           2   \n",
       "822       0   ...     19972   VIP         False             1           1   \n",
       "1157      0   ...    112051    Mr         False             1           1   \n",
       "1263      0   ...    112058    Mr          True             2           2   \n",
       "\n",
       "      Groups  With_Family  Child  20to30  FarePP  \n",
       "179        3        False  False   False     0.0  \n",
       "263        1        False  False   False     0.0  \n",
       "271        3        False  False    True     0.0  \n",
       "277        3        False  False    True     0.0  \n",
       "302        3        False  False   False     0.0  \n",
       "413        3        False  False    True     0.0  \n",
       "466        3        False  False    True     0.0  \n",
       "481        1        False  False   False     0.0  \n",
       "597        3        False  False   False     0.0  \n",
       "633        1        False  False   False     0.0  \n",
       "674        1        False  False   False     0.0  \n",
       "732        1        False  False   False     0.0  \n",
       "806        1        False  False   False     0.0  \n",
       "815        2        False  False   False     0.0  \n",
       "822        1        False  False   False     0.0  \n",
       "1157       1        False  False   False     0.0  \n",
       "1263       2        False  False   False     0.0  \n",
       "\n",
       "[17 rows x 21 columns]"
      ]
     },
     "execution_count": 27,
     "metadata": {},
     "output_type": "execute_result"
    }
   ],
   "source": [
    "comb.query('(Fare != Fare) | (Fare == 0)')"
   ]
  },
  {
   "cell_type": "markdown",
   "metadata": {},
   "source": [
    "Interestingly, they all boarded in Southampton.  That makes filling in their ages with the median over each Pclass easier."
   ]
  },
  {
   "cell_type": "code",
   "execution_count": 28,
   "metadata": {},
   "outputs": [
    {
     "data": {
      "text/html": [
       "<div>\n",
       "<style scoped>\n",
       "    .dataframe tbody tr th:only-of-type {\n",
       "        vertical-align: middle;\n",
       "    }\n",
       "\n",
       "    .dataframe tbody tr th {\n",
       "        vertical-align: top;\n",
       "    }\n",
       "\n",
       "    .dataframe thead th {\n",
       "        text-align: right;\n",
       "    }\n",
       "</style>\n",
       "<table border=\"1\" class=\"dataframe\">\n",
       "  <thead>\n",
       "    <tr style=\"text-align: right;\">\n",
       "      <th></th>\n",
       "      <th>FarePP</th>\n",
       "    </tr>\n",
       "    <tr>\n",
       "      <th>Pclass</th>\n",
       "      <th></th>\n",
       "    </tr>\n",
       "  </thead>\n",
       "  <tbody>\n",
       "    <tr>\n",
       "      <th>1</th>\n",
       "      <td>26.5500</td>\n",
       "    </tr>\n",
       "    <tr>\n",
       "      <th>2</th>\n",
       "      <td>11.5000</td>\n",
       "    </tr>\n",
       "    <tr>\n",
       "      <th>3</th>\n",
       "      <td>7.7958</td>\n",
       "    </tr>\n",
       "  </tbody>\n",
       "</table>\n",
       "</div>"
      ],
      "text/plain": [
       "         FarePP\n",
       "Pclass         \n",
       "1       26.5500\n",
       "2       11.5000\n",
       "3        7.7958"
      ]
     },
     "execution_count": 28,
     "metadata": {},
     "output_type": "execute_result"
    }
   ],
   "source": [
    "grouped = comb[['FarePP','Pclass','Embarked']][comb['Embarked']=='S'].groupby(['Pclass']).median()\n",
    "grouped"
   ]
  },
  {
   "cell_type": "code",
   "execution_count": 29,
   "metadata": {},
   "outputs": [],
   "source": [
    "comb['FarePP'] = comb[['FarePP']].replace({0.0:np.nan})"
   ]
  },
  {
   "cell_type": "code",
   "execution_count": 30,
   "metadata": {},
   "outputs": [],
   "source": [
    "comb['FarePP'] = comb.groupby(['Embarked','Pclass'])['FarePP'].transform(lambda x:x.fillna(x.median()))"
   ]
  },
  {
   "cell_type": "markdown",
   "metadata": {},
   "source": [
    "### 1.5. Consecutive tickets and alternative names"
   ]
  },
  {
   "cell_type": "markdown",
   "metadata": {},
   "source": [
    "There are interesting groups of consecutive ticket numbers that suggest some passengers may have been traveling with relatives not captured by shared tickets, SibSp or Parch. Like the groups above, it would be nice to incorporate this.  Yet I'm not convinced that all such consecutive grouping actually indicate several people traveling together.\n",
    "\n",
    "Maiden/alternative names can be extracted from the passenger list as follows:"
   ]
  },
  {
   "cell_type": "code",
   "execution_count": 31,
   "metadata": {},
   "outputs": [],
   "source": [
    "grouped = comb['Name'].groupby([comb['Name'].str.contains('\\(')])\n",
    "def l_name(s):\n",
    "    l = s.split(' ')\n",
    "    return l[len(l)-1]\n",
    "h = lambda x:l_name(x[x.find(\"(\")+1:x.find(\")\")+1].strip('\\\"\\(\\)'))\n",
    "g = lambda s: s.apply(h)\n",
    "transform = grouped.transform(g)\n",
    "comb['Other_Name'] = transform"
   ]
  },
  {
   "cell_type": "markdown",
   "metadata": {},
   "source": [
    "With this, one might try to find hidden groups of travelers. This assumes some relation between the maiden/alternative names and other Names. The following family illustrates that these hidden relations exist but are not straightforward to determine."
   ]
  },
  {
   "cell_type": "code",
   "execution_count": 32,
   "metadata": {},
   "outputs": [
    {
     "data": {
      "text/html": [
       "<div>\n",
       "<style scoped>\n",
       "    .dataframe tbody tr th:only-of-type {\n",
       "        vertical-align: middle;\n",
       "    }\n",
       "\n",
       "    .dataframe tbody tr th {\n",
       "        vertical-align: top;\n",
       "    }\n",
       "\n",
       "    .dataframe thead th {\n",
       "        text-align: right;\n",
       "    }\n",
       "</style>\n",
       "<table border=\"1\" class=\"dataframe\">\n",
       "  <thead>\n",
       "    <tr style=\"text-align: right;\">\n",
       "      <th></th>\n",
       "      <th>PassengerId</th>\n",
       "      <th>Name</th>\n",
       "      <th>Pclass</th>\n",
       "      <th>Parch</th>\n",
       "      <th>SibSp</th>\n",
       "      <th>Age</th>\n",
       "      <th>Ticket</th>\n",
       "      <th>Groups</th>\n",
       "      <th>Embarked</th>\n",
       "    </tr>\n",
       "  </thead>\n",
       "  <tbody>\n",
       "    <tr>\n",
       "      <th>13</th>\n",
       "      <td>14</td>\n",
       "      <td>Andersson, Mr. Anders Johan</td>\n",
       "      <td>3</td>\n",
       "      <td>5</td>\n",
       "      <td>1</td>\n",
       "      <td>39.0</td>\n",
       "      <td>347082</td>\n",
       "      <td>4</td>\n",
       "      <td>S</td>\n",
       "    </tr>\n",
       "    <tr>\n",
       "      <th>68</th>\n",
       "      <td>69</td>\n",
       "      <td>Andersson, Miss. Erna Alexandra</td>\n",
       "      <td>3</td>\n",
       "      <td>2</td>\n",
       "      <td>4</td>\n",
       "      <td>17.0</td>\n",
       "      <td>3101281</td>\n",
       "      <td>4</td>\n",
       "      <td>S</td>\n",
       "    </tr>\n",
       "    <tr>\n",
       "      <th>119</th>\n",
       "      <td>120</td>\n",
       "      <td>Andersson, Miss. Ellis Anna Maria</td>\n",
       "      <td>3</td>\n",
       "      <td>2</td>\n",
       "      <td>4</td>\n",
       "      <td>2.0</td>\n",
       "      <td>347082</td>\n",
       "      <td>4</td>\n",
       "      <td>S</td>\n",
       "    </tr>\n",
       "    <tr>\n",
       "      <th>146</th>\n",
       "      <td>147</td>\n",
       "      <td>Andersson, Mr. August Edvard (\"Wennerstrom\")</td>\n",
       "      <td>3</td>\n",
       "      <td>0</td>\n",
       "      <td>0</td>\n",
       "      <td>27.0</td>\n",
       "      <td>350043</td>\n",
       "      <td>1</td>\n",
       "      <td>S</td>\n",
       "    </tr>\n",
       "    <tr>\n",
       "      <th>541</th>\n",
       "      <td>542</td>\n",
       "      <td>Andersson, Miss. Ingeborg Constanzia</td>\n",
       "      <td>3</td>\n",
       "      <td>2</td>\n",
       "      <td>4</td>\n",
       "      <td>9.0</td>\n",
       "      <td>347082</td>\n",
       "      <td>4</td>\n",
       "      <td>S</td>\n",
       "    </tr>\n",
       "    <tr>\n",
       "      <th>542</th>\n",
       "      <td>543</td>\n",
       "      <td>Andersson, Miss. Sigrid Elisabeth</td>\n",
       "      <td>3</td>\n",
       "      <td>2</td>\n",
       "      <td>4</td>\n",
       "      <td>11.0</td>\n",
       "      <td>347082</td>\n",
       "      <td>4</td>\n",
       "      <td>S</td>\n",
       "    </tr>\n",
       "    <tr>\n",
       "      <th>610</th>\n",
       "      <td>611</td>\n",
       "      <td>Andersson, Mrs. Anders Johan (Alfrida Konstant...</td>\n",
       "      <td>3</td>\n",
       "      <td>5</td>\n",
       "      <td>1</td>\n",
       "      <td>39.0</td>\n",
       "      <td>347082</td>\n",
       "      <td>4</td>\n",
       "      <td>S</td>\n",
       "    </tr>\n",
       "    <tr>\n",
       "      <th>813</th>\n",
       "      <td>814</td>\n",
       "      <td>Andersson, Miss. Ebba Iris Alfrida</td>\n",
       "      <td>3</td>\n",
       "      <td>2</td>\n",
       "      <td>4</td>\n",
       "      <td>6.0</td>\n",
       "      <td>347082</td>\n",
       "      <td>4</td>\n",
       "      <td>S</td>\n",
       "    </tr>\n",
       "    <tr>\n",
       "      <th>850</th>\n",
       "      <td>851</td>\n",
       "      <td>Andersson, Master. Sigvard Harald Elias</td>\n",
       "      <td>3</td>\n",
       "      <td>2</td>\n",
       "      <td>4</td>\n",
       "      <td>4.0</td>\n",
       "      <td>347082</td>\n",
       "      <td>4</td>\n",
       "      <td>S</td>\n",
       "    </tr>\n",
       "    <tr>\n",
       "      <th>981</th>\n",
       "      <td>982</td>\n",
       "      <td>Dyker, Mrs. Adolf Fredrik (Anna Elisabeth Judi...</td>\n",
       "      <td>3</td>\n",
       "      <td>0</td>\n",
       "      <td>1</td>\n",
       "      <td>22.0</td>\n",
       "      <td>347072</td>\n",
       "      <td>2</td>\n",
       "      <td>S</td>\n",
       "    </tr>\n",
       "    <tr>\n",
       "      <th>1105</th>\n",
       "      <td>1106</td>\n",
       "      <td>Andersson, Miss. Ida Augusta Margareta</td>\n",
       "      <td>3</td>\n",
       "      <td>2</td>\n",
       "      <td>4</td>\n",
       "      <td>38.0</td>\n",
       "      <td>347091</td>\n",
       "      <td>4</td>\n",
       "      <td>S</td>\n",
       "    </tr>\n",
       "    <tr>\n",
       "      <th>1211</th>\n",
       "      <td>1212</td>\n",
       "      <td>Andersson, Mr. Johan Samuel</td>\n",
       "      <td>3</td>\n",
       "      <td>0</td>\n",
       "      <td>0</td>\n",
       "      <td>26.0</td>\n",
       "      <td>347075</td>\n",
       "      <td>1</td>\n",
       "      <td>S</td>\n",
       "    </tr>\n",
       "  </tbody>\n",
       "</table>\n",
       "</div>"
      ],
      "text/plain": [
       "      PassengerId                                               Name  Pclass  \\\n",
       "13             14                        Andersson, Mr. Anders Johan       3   \n",
       "68             69                    Andersson, Miss. Erna Alexandra       3   \n",
       "119           120                  Andersson, Miss. Ellis Anna Maria       3   \n",
       "146           147       Andersson, Mr. August Edvard (\"Wennerstrom\")       3   \n",
       "541           542               Andersson, Miss. Ingeborg Constanzia       3   \n",
       "542           543                  Andersson, Miss. Sigrid Elisabeth       3   \n",
       "610           611  Andersson, Mrs. Anders Johan (Alfrida Konstant...       3   \n",
       "813           814                 Andersson, Miss. Ebba Iris Alfrida       3   \n",
       "850           851            Andersson, Master. Sigvard Harald Elias       3   \n",
       "981           982  Dyker, Mrs. Adolf Fredrik (Anna Elisabeth Judi...       3   \n",
       "1105         1106             Andersson, Miss. Ida Augusta Margareta       3   \n",
       "1211         1212                        Andersson, Mr. Johan Samuel       3   \n",
       "\n",
       "      Parch  SibSp   Age   Ticket  Groups Embarked  \n",
       "13        5      1  39.0   347082       4        S  \n",
       "68        2      4  17.0  3101281       4        S  \n",
       "119       2      4   2.0   347082       4        S  \n",
       "146       0      0  27.0   350043       1        S  \n",
       "541       2      4   9.0   347082       4        S  \n",
       "542       2      4  11.0   347082       4        S  \n",
       "610       5      1  39.0   347082       4        S  \n",
       "813       2      4   6.0   347082       4        S  \n",
       "850       2      4   4.0   347082       4        S  \n",
       "981       0      1  22.0   347072       2        S  \n",
       "1105      2      4  38.0   347091       4        S  \n",
       "1211      0      0  26.0   347075       1        S  "
      ]
     },
     "execution_count": 32,
     "metadata": {},
     "output_type": "execute_result"
    }
   ],
   "source": [
    "comb[comb['Name'].str.contains('Andersson')][['PassengerId','Name','Pclass','Parch','SibSp','Age','Ticket','Groups','Embarked']]"
   ]
  },
  {
   "cell_type": "markdown",
   "metadata": {},
   "source": [
    "Many have been placed correctly into Group 4 (indicating they traveled with 5+ people). But two stand out as possibly wrong. Was Anna Elizabeth Dyker traveling in a larger group?  Her maiden name matches others in this group and her ticket number is close as well. If so, she should be included in a much larger group.  Similarly, Johan Samuel Anderrson is marked as a solo traveler, but he should be included in the larger group. \n",
    "\n",
    "This suggests that if two passengers have significant overlap in name, and have very close ticket numbers, they were likely traveling together.  \n",
    "\n",
    "Fixing the group sizes is something I intend to do in the future."
   ]
  },
  {
   "cell_type": "markdown",
   "metadata": {},
   "source": [
    "### 1.6. Cabin number"
   ]
  },
  {
   "cell_type": "markdown",
   "metadata": {},
   "source": [
    "A lot of cabin data is either missing.  Does this mean the information is not available, or that most people weren't assigned a cabin?  I don't know. "
   ]
  },
  {
   "cell_type": "code",
   "execution_count": 33,
   "metadata": {},
   "outputs": [],
   "source": [
    "comb['No_Cabin'] = pd.isna(comb['Cabin'])"
   ]
  },
  {
   "cell_type": "code",
   "execution_count": 34,
   "metadata": {},
   "outputs": [
    {
     "data": {
      "image/png": "[encoded data removed]",
      "text/plain": [
       "<Figure size 432x288 with 1 Axes>"
      ]
     },
     "metadata": {},
     "output_type": "display_data"
    }
   ],
   "source": [
    "ax = sns.barplot(x=comb['No_Cabin'][~comb['Survived'].isnull()], y=train['Survived'])\n",
    "plt.show()"
   ]
  },
  {
   "cell_type": "markdown",
   "metadata": {},
   "source": [
    "If you had a cabin, you were more than twice as likely to survive.  Yet this is certainly overlapping with Pclass, and a lot of cabin information could be missing.  We may not use this."
   ]
  },
  {
   "cell_type": "markdown",
   "metadata": {},
   "source": [
    "## 2. Fitting a model"
   ]
  },
  {
   "cell_type": "markdown",
   "metadata": {},
   "source": [
    "We will fit with three different classifiers, then use a voting system for the final prediction.  "
   ]
  },
  {
   "cell_type": "markdown",
   "metadata": {},
   "source": [
    "### 2.1. Predictors"
   ]
  },
  {
   "cell_type": "markdown",
   "metadata": {},
   "source": [
    "Our predictors are: Sex, Child, 20to30, Groups, Pclass, With_Family, and FarePP."
   ]
  },
  {
   "cell_type": "code",
   "execution_count": 35,
   "metadata": {},
   "outputs": [],
   "source": [
    "cols = ['20to30','Child','Sex','Pclass','With_Family']\n",
    "comb_d = pd.get_dummies(data=comb[['With_Family','20to30','FarePP','Child','Survived','PassengerId','Sex','Pclass','Groups']], columns=cols)\n",
    "X = comb_d[comb_d['PassengerId']<=891]\n",
    "y = X['Survived']\n",
    "X_test = comb_d[comb_d['PassengerId']>891]\n",
    "X = X.drop(['Survived','PassengerId'],axis=1)\n",
    "X_test = X_test.drop(['Survived','PassengerId'],axis=1)"
   ]
  },
  {
   "cell_type": "markdown",
   "metadata": {},
   "source": [
    "### 2.2. Tuning SVM parameters"
   ]
  },
  {
   "cell_type": "markdown",
   "metadata": {},
   "source": [
    "We employ GridSearchCV to find the best estimator for SVM."
   ]
  },
  {
   "cell_type": "code",
   "execution_count": 36,
   "metadata": {},
   "outputs": [],
   "source": [
    "param_grid={'kernel': ['rbf'], 'gamma': [0.001, 0.01, 0.1, 1], 'C': [1, 10, 50, 100, 200, 300, 1000], 'decision_function_shape': ['ovo', 'ovr']}"
   ]
  },
  {
   "cell_type": "code",
   "execution_count": 37,
   "metadata": {
    "scrolled": true
   },
   "outputs": [
    {
     "data": {
      "text/plain": [
       "GridSearchCV(cv=None, error_score='raise',\n",
       "       estimator=SVC(C=1.0, cache_size=200, class_weight=None, coef0=0.0,\n",
       "  decision_function_shape='ovr', degree=3, gamma='auto', kernel='rbf',\n",
       "  max_iter=-1, probability=False, random_state=None, shrinking=True,\n",
       "  tol=0.001, verbose=False),\n",
       "       fit_params=None, iid=True, n_jobs=1,\n",
       "       param_grid={'kernel': ['rbf'], 'gamma': [0.001, 0.01, 0.1, 1], 'C': [1, 10, 50, 100, 200, 300, 1000], 'decision_function_shape': ['ovo', 'ovr']},\n",
       "       pre_dispatch='2*n_jobs', refit=True, return_train_score='warn',\n",
       "       scoring=None, verbose=0)"
      ]
     },
     "execution_count": 37,
     "metadata": {},
     "output_type": "execute_result"
    }
   ],
   "source": [
    "svc = svm.SVC()\n",
    "clf = GridSearchCV(svc, param_grid)\n",
    "clf.fit(X, y)"
   ]
  },
  {
   "cell_type": "code",
   "execution_count": 38,
   "metadata": {},
   "outputs": [
    {
     "data": {
      "text/plain": [
       "SVC(C=300, cache_size=200, class_weight=None, coef0=0.0,\n",
       "  decision_function_shape='ovo', degree=3, gamma=0.01, kernel='rbf',\n",
       "  max_iter=-1, probability=False, random_state=None, shrinking=True,\n",
       "  tol=0.001, verbose=False)"
      ]
     },
     "execution_count": 38,
     "metadata": {},
     "output_type": "execute_result"
    }
   ],
   "source": [
    "clf.best_estimator_"
   ]
  },
  {
   "cell_type": "code",
   "execution_count": 39,
   "metadata": {},
   "outputs": [
    {
     "name": "stdout",
     "output_type": "stream",
     "text": [
      "Mean: 0.8204864409971393 +- 0.034295910444112634\n"
     ]
    }
   ],
   "source": [
    "clf_svc = svm.SVC(C=300, cache_size=200, class_weight=None, coef0=0.0,\n",
    "  decision_function_shape='ovo', degree=3, gamma=0.01, kernel='rbf',\n",
    "  max_iter=-1, probability=False, random_state=None, shrinking=True,\n",
    "  tol=0.001, verbose=False)\n",
    "scores = cross_val_score(clf_svc, X, y, cv=5)\n",
    "print(\"Mean: {0} +- {1}\".format(scores.mean(), 2*scores.std()))"
   ]
  },
  {
   "cell_type": "markdown",
   "metadata": {},
   "source": [
    "This looks pretty good. While the mean is not high --- and with other predictors I can make the mean higher --- the deviation is relatively low. "
   ]
  },
  {
   "cell_type": "markdown",
   "metadata": {},
   "source": [
    "### 2.3. Random Forests and Gradient Boosting"
   ]
  },
  {
   "cell_type": "markdown",
   "metadata": {},
   "source": [
    "I don't want to stick to just one model. "
   ]
  },
  {
   "cell_type": "code",
   "execution_count": 40,
   "metadata": {},
   "outputs": [],
   "source": [
    "clf_rfc = RandomForestClassifier()\n",
    "clf_gbc = GradientBoostingClassifier()"
   ]
  },
  {
   "cell_type": "code",
   "execution_count": 41,
   "metadata": {},
   "outputs": [
    {
     "name": "stdout",
     "output_type": "stream",
     "text": [
      "Mean: 0.8058981759969814 +- 0.03657030161857085\n"
     ]
    }
   ],
   "source": [
    "scores = cross_val_score(clf_rfc, X, y, cv=5)\n",
    "print(\"Mean: {0} +- {1}\".format(scores.mean(), 2*scores.std()))"
   ]
  },
  {
   "cell_type": "code",
   "execution_count": 42,
   "metadata": {},
   "outputs": [
    {
     "name": "stdout",
     "output_type": "stream",
     "text": [
      "Mean: 0.8271839326871143 +- 0.022139703611414468\n"
     ]
    }
   ],
   "source": [
    "scores = cross_val_score(clf_gbc, X, y, cv=5)\n",
    "print(\"Mean: {0} +- {1}\".format(scores.mean(), 2*scores.std()))"
   ]
  },
  {
   "cell_type": "markdown",
   "metadata": {},
   "source": [
    "I like these three scores for their low deviation."
   ]
  },
  {
   "cell_type": "code",
   "execution_count": 43,
   "metadata": {},
   "outputs": [],
   "source": [
    "clf_svc.fit(X,y)\n",
    "clf_rfc.fit(X,y)\n",
    "clf_gbc.fit(X,y)\n",
    "pred_svc = clf_svc.predict(X_test)\n",
    "pred_rfc = clf_rfc.predict(X_test)\n",
    "pred_gbc = clf_gbc.predict(X_test)"
   ]
  },
  {
   "cell_type": "markdown",
   "metadata": {},
   "source": [
    "### 2.4. Model correlation"
   ]
  },
  {
   "cell_type": "markdown",
   "metadata": {},
   "source": [
    "Let's look at the correlation between them."
   ]
  },
  {
   "cell_type": "code",
   "execution_count": 44,
   "metadata": {},
   "outputs": [],
   "source": [
    "corr_df = pd.DataFrame({'SVC':pred_svc, 'RFC':pred_rfc, 'GBC':pred_gbc})"
   ]
  },
  {
   "cell_type": "code",
   "execution_count": 45,
   "metadata": {},
   "outputs": [
    {
     "data": {
      "image/png": "[encoded data removed]",
      "text/plain": [
       "<Figure size 432x288 with 2 Axes>"
      ]
     },
     "metadata": {},
     "output_type": "display_data"
    }
   ],
   "source": [
    "cmap = sns.diverging_palette(220, 10, as_cmap=True)\n",
    "ax = sns.heatmap(corr_df.corr(), cmap=cmap )\n",
    "plt.show()"
   ]
  },
  {
   "cell_type": "markdown",
   "metadata": {},
   "source": [
    "This isn't spectacular and suggests there is room for improvement."
   ]
  },
  {
   "cell_type": "markdown",
   "metadata": {},
   "source": [
    "### 2.5. Model voting"
   ]
  },
  {
   "cell_type": "markdown",
   "metadata": {},
   "source": [
    "Though it's not obvious from above, SVM seems to consistently do the best.  We make our prediction based on SVM, unless overruled by an agreement among the other two classifiers."
   ]
  },
  {
   "cell_type": "code",
   "execution_count": 46,
   "metadata": {},
   "outputs": [],
   "source": [
    "final_pred = []\n",
    "for i in range(len(pred_svc)):\n",
    "    if pred_rfc[i] != pred_gbc[i]:\n",
    "        final_pred.append(pred_svc[i])\n",
    "    else:\n",
    "        final_pred.append(pred_rfc[i])"
   ]
  },
  {
   "cell_type": "code",
   "execution_count": 47,
   "metadata": {},
   "outputs": [],
   "source": [
    "with open('titanic_pred_041118_4.csv','w') as f:\n",
    "    f.write('PassengerId,Survived\\n')\n",
    "    for i in range(len(final_pred)):\n",
    "        f.write(str(comb['PassengerId'].iloc[i+891])+','+str(int(final_pred[i]))+'\\n')"
   ]
  },
  {
   "cell_type": "markdown",
   "metadata": {},
   "source": [
    "## 3. Conclusions"
   ]
  },
  {
   "cell_type": "markdown",
   "metadata": {},
   "source": [
    "This analysis scored above 0.8 on Kaggle, which as of this writing is the top 11%.  I'm pleased with the result, but there is room for improvement. Specific areas that could be improved are:\n",
    "\n",
    "1. Traveling groups should be modified to incorporate maiden/alternative names and close ticket numbers.\n",
    "2. Age reward/penalties could stand a more detailed analysis.  These rewards/penalties improved my overall score, but I think I can do better.\n",
    "3. The correlation among the various models is higher than I would like.  I want to either incorporate more models and modify the voting procedure, or replace Gradient Boosting with a different classifier."
   ]
  }
 ],
 "metadata": {
  "kernelspec": {
   "display_name": "Python 3",
   "language": "python",
   "name": "python3"
  },
  "language_info": {
   "codemirror_mode": {
    "name": "ipython",
    "version": 3
   },
   "file_extension": ".py",
   "mimetype": "text/x-python",
   "name": "python",
   "nbconvert_exporter": "python",
   "pygments_lexer": "ipython3",
   "version": "3.6.5"
  }
 },
 "nbformat": 4,
 "nbformat_minor": 2
}
